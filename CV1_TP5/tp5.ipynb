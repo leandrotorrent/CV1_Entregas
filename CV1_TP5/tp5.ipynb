{
 "cells": [
  {
   "attachments": {},
   "cell_type": "markdown",
   "metadata": {},
   "source": [
    "# Trabajo Práctico 5"
   ]
  },
  {
   "cell_type": "code",
   "execution_count": 12,
   "metadata": {},
   "outputs": [],
   "source": [
    "import cv2 as cv\n",
    "import random\n",
    "import numpy as np\n",
    "import time"
   ]
  },
  {
   "cell_type": "code",
   "execution_count": 15,
   "metadata": {},
   "outputs": [],
   "source": [
    "def getMedianImage(capture, n: int):\n",
    "    # Obtengo los IDs de n frames aleatorios\n",
    "    frameIds = capture.get(cv.CAP_PROP_FRAME_COUNT) * np.random.uniform(size=n)\n",
    "    \n",
    "    # Guardo los frames en una lista\n",
    "    frames = []\n",
    "    for id in frameIds:\n",
    "        capture.set(cv.CAP_PROP_POS_FRAMES, id)\n",
    "        ret, frame = capture.read()\n",
    "        frames.append(frame)\n",
    "\n",
    "    # Calculo la mediana\n",
    "    medianFrame = np.median(frames, axis=0).astype(dtype=np.uint8)    \n",
    "    return medianFrame\n",
    "\n",
    "def NaiveBackgroundSubstractor(capture, n: int, segundos: int):\n",
    "\n",
    "\n",
    "    grayMedianFrame = cv.cvtColor(getMedianImage(capture, n), cv.COLOR_BGR2GRAY)\n",
    "\n",
    "    # Volvemos al primer frame del video\n",
    "    capture.set(cv.CAP_PROP_POS_FRAMES, 0)\n",
    "\n",
    "    #Inicializamos el temporizador\n",
    "    startTime = time.time()\n",
    "    \n",
    "    ret = True\n",
    "    while(ret):\n",
    "\n",
    "        if (time.time() - startTime) > segundos:\n",
    "            grayMedianFrame = cv.cvtColor(getMedianImage(capture, n), cv.COLOR_BGR2GRAY)\n",
    "            startTime =  time.time()\n",
    "            print(\"Se ha actualizado el fondo\")\n",
    "        # Leemos cada frame\n",
    "        ret, frame = capture.read()\n",
    "        frame = cv.cvtColor(frame, cv.COLOR_BGR2GRAY)\n",
    "        # Restamos el frame con la mediana\n",
    "        dframe = cv.absdiff(frame, grayMedianFrame)\n",
    "        # Aplicamos un threshold para binarizar\n",
    "        th, dframe = cv.threshold(dframe, 30, 255, cv.THRESH_BINARY)\n",
    "        # Display image\n",
    "        cv.imshow('frame', dframe)\n",
    "\n",
    "        keyboard = cv.waitKey(30)\n",
    "        if keyboard == 'q' or keyboard == 27:\n",
    "              break\n",
    "        \n",
    "    # Release video object\n",
    "    capture.release()\n",
    "    \n",
    "    # Destroy all windows\n",
    "    cv.destroyAllWindows()\n"
   ]
  },
  {
   "cell_type": "code",
   "execution_count": 19,
   "metadata": {},
   "outputs": [
    {
     "name": "stdout",
     "output_type": "stream",
     "text": [
      "Se ha actualizado el fondo\n",
      "Se ha actualizado el fondo\n",
      "Se ha actualizado el fondo\n",
      "Se ha actualizado el fondo\n"
     ]
    }
   ],
   "source": [
    "filename = 'vtest.avi'\n",
    "capture = cv.VideoCapture(filename)\n",
    "\n",
    "NaiveBackgroundSubstractor(capture, 15, 3)"
   ]
  },
  {
   "attachments": {},
   "cell_type": "markdown",
   "metadata": {},
   "source": [
    "Comparando con la substraccion de fondo basado en mezcla de gausianas, se puede notar que usar la mediana como estimador puede generarnos un video menos fluido (con pausas para actualizar el fondo), aunque la sustracción del fondo parece ser mejor."
   ]
  },
  {
   "cell_type": "code",
   "execution_count": null,
   "metadata": {},
   "outputs": [],
   "source": []
  }
 ],
 "metadata": {
  "kernelspec": {
   "display_name": "base",
   "language": "python",
   "name": "python3"
  },
  "language_info": {
   "codemirror_mode": {
    "name": "ipython",
    "version": 3
   },
   "file_extension": ".py",
   "mimetype": "text/x-python",
   "name": "python",
   "nbconvert_exporter": "python",
   "pygments_lexer": "ipython3",
   "version": "3.9.12"
  },
  "orig_nbformat": 4,
  "vscode": {
   "interpreter": {
    "hash": "8cfbdbb1ba49b40f456b14fe999ab6204287b57d4770ad8a378e2797922f99aa"
   }
  }
 },
 "nbformat": 4,
 "nbformat_minor": 2
}
